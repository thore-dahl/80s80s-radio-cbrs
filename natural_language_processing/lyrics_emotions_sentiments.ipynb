{
 "cells": [
  {
   "cell_type": "code",
   "execution_count": 1,
   "metadata": {},
   "outputs": [],
   "source": [
    "import os\n",
    "import pandas as pd\n",
    "import spacy\n",
    "\n",
    "from dotenv import load_dotenv\n",
    "from nrclex import NRCLex\n",
    "from preprocessing import get_path, prep"
   ]
  },
  {
   "cell_type": "code",
   "execution_count": 2,
   "metadata": {},
   "outputs": [],
   "source": [
    "load_dotenv(\"variable.env\")\n",
    "artists_env = os.getenv(\"art_col\")\n",
    "titles_env = os.getenv(\"tit_col\")\n",
    "\n",
    "df = pd.read_csv(filepath_or_buffer = get_path(f\"{os.getenv('dataset')}.csv\"))\n",
    "df = df[df[os.getenv(\"lan_col\")] == \"en\"]"
   ]
  },
  {
   "cell_type": "code",
   "execution_count": 3,
   "metadata": {},
   "outputs": [],
   "source": [
    "lyr_emo_se = prep(df, {})"
   ]
  },
  {
   "cell_type": "code",
   "execution_count": 4,
   "metadata": {},
   "outputs": [
    {
     "data": {
      "text/plain": [
       "('I shoot the sheriff , but I do not shoot no deputy \\n oh , no , oh \\n I shoot the sheriff , but I do not shoot no deputy \\n ooh , ooh , ooh ( yeah ) \\n\\n all around in my hometown \\n they try to track I down , yeah \\n they say they want to bring I in guilty \\n for the killing of a deputy , for the life of a deputy \\n but I say , oh , now , now \\n\\n oh , I shoot the sheriff ( the sheriff ) , but I swear it be in self defense ( no , no ) \\n ooh , ooh , ooh ( yeah ) \\n I say , I shoot the sheriff ( oh lord ) \\n and they say it be a capital offense ( oh now , yeah ) \\n ooh , ooh , ooh ( yeah ) \\n ( hear this ) \\n\\n sheriff john brown always hate I \\n for what ? I do not know \\n every time I plant a seed \\n he say , \" kill it before it grow \" \\n he say , \" kill they before they grow \" \\n and so , and so \\n read it in the news \\n\\n I shoot the sheriff ( oh lord ) , but I swear it be in self defense \\n where be the deputy ? ( ooh , ooh , ooh ) \\n I say I shoot the sheriff but I swear it be in self defense \\n yeah ( ooh ) \\n\\n freedom come my way one day \\n and I start out of town , yeah \\n all of a sudden I see sheriff john brown \\n aim to shoot I down \\n so I shoot , I shoot , I shoot he down \\n and I say , if I be guilty I will pay \\n\\n I shoot the sheriff ( but I say ) but I do not shoot no deputy \\n I do not shoot no deputy , no ( oh , no , oh ) \\n I shoot the sheriff , but I do not shoot no deputy \\n ooh , ooh , ooh ( yeah ) \\n\\n reflexe have the well of I \\n and what be to be must be \\n every day the bucket a - go - a well \\n one day the bottom a - go drop out \\n one day the bottom a - go drop out \\n I say \\n\\n I , I , I , I shoot the sheriff , lord , I do not shoot the deputy , no \\n yeah , I , i , shoot the sheriff , but I do not shoot no deputy , yeah \\n so yeah',\n",
       " 'wendy ? \\n yes , lisa ? \\n be the water warm enough ? \\n yes , lisa \\n shall we begin ? \\n yes , lisa \\n\\n where be my love life ? \\n where can it be ? \\n there must be something wrong with the machinery \\n\\n where be my love life ? \\n ( tell I , tell I ) where have it go ? \\n somebody , please , please tell I what the hell be wrong \\n\\n until I find the righteous one \\n computer blue \\n until I find the righteous one \\n computer blue , oh',\n",
       " \"history repeat the old conceit \\n the glib reply , the same defeat \\n keep your finger on important issue \\n with crocodile tear and a pocketful of tissue \\n\\n I be just an oil slick \\n in a windup world with a nervous tick \\n in a very fashionable hovel \\n\\n I hang around die to be torture \\n you will never be alone in the bone orchard \\n this battle with the bottle be nothing so novel \\n\\n so in this almost empty gin palace \\n through a two - way look glass \\n you see your alice \\n\\n you know she have no sense \\n for all your jealousy \\n in a sense she still smile very sweetly \\n\\n charge with insult and flattery \\n her body move with malice \\n do you have to be so cruel to be callous ? \\n\\n and now you find you fit this identikit completely \\n you say you have no secret \\n then leave discreetly \\n\\n I might make it california 's fault \\n be lock in geneva 's deep vault \\n just like the canal of mar and the great barrier reef \\n I come to you beyond belief \\n\\n my hand be clammy and cunning \\n she be be suitably stunning \\n but I know there be not a hope in hade \\n\\n all the laddie cat call and wolf whistle \\n so - call gentleman and lady \\n dog fight like rose and thistle \\n\\n I have get a feeling \\n I be go to get a lot of grief \\n once this seem so appealing \\n now I be beyond belief \\n\\n I have get a feeling \\n I be go to get a lot of grief \\n once this seem so appealing \\n now I be beyond belief \\n\\n I have get a feeling \\n I be go to get a lot of grief \\n once this seem so appealing \\n now I be beyond belief \\n\\n I have get a feeling-\",\n",
       " 'I will love you anyway \\n even if you can not stay \\n I think you be the one for I \\n here be where you ought to be \\n\\n I just want to satisfy ya \\n you be not mine and I can not deny it \\n do not you hear I talk , baby \\n love I now or I will go crazy \\n\\n woah - oh , sweet thing \\n oh , you know you be my everything \\n woah - oh , sweet thing \\n oh , you know you be my everything \\n yes , you be \\n\\n I wish you be my lover \\n but you act so undercover \\n to love you child my whole life long \\n be it right or be it wrong \\n\\n I be only what you make I , baby \\n do not walk away , do not be so shady \\n do not want your mind , do not want your money \\n these word I say , they may sound funny but \\n\\n woah - oh , sweet thing \\n oh , you know you be my everything \\n woah - oh , sweet thing \\n oh , you know you be my everything \\n yes , you be \\n\\n yes , you be \\n\\n you be my heat , you be my fire \\n you make I weak with strong desire \\n to love you child my whole life long \\n be it right or be it wrong \\n\\n I just want to satisfy you \\n though you be not mine , I can not deny it \\n do not you hear I talk , baby \\n love I now or I will go crazy \\n\\n you be the heat , you be my fire \\n you be not mine , I can not deny it \\n do not you hear I talk , baby \\n love I now or I will go crazy \\n\\n you be the heat , you be my fire \\n you be not mine , I can not deny it \\n do not you hear I talk , baby \\n love I now or I will go crazy \\n\\n you be the heat , you be my fire \\n you be not mine , I can not deny it \\n do not you hear I talk , baby \\n love I now or I will go crazy \\n\\n you be the heat , you be my fire \\n you be not mine , I can not deny it \\n do not you hear I talk ...',\n",
       " 'oh my baby baby I love you more than I can tell \\n I do not think I can live without you \\n and I know that I never will \\n oh my baby baby I want you so it scare I to death \\n I can not say anymore than \" I love you \" \\n everything else be a waste of breath \\n\\n I want you \\n you have have your fun you do not get well no more \\n I want you \\n your fingernail go drag down the wall \\n be careful darling you might fall \\n\\n I want you \\n I wake up and one of we be cry \\n I want you \\n you say \" young man I do believe you be die \" \\n I want you \\n if you need a second opinion as you seem to do these day \\n I want you \\n you can look in my eye and you can count the way \\n\\n I want you \\n do you mean to tell I but seem to forget \\n I want you \\n since when be you so generous and inarticulate \\n I want you \\n it be the stupid detail that my heart be break for \\n it be the way your shoulder shake and what they be shake for \\n I want you \\n it be know that he know you now after only guess \\n it be the thought of he undress you or you undress \\n\\n I want you \\n he toss some tatty compliment your way \\n I want you \\n and you be fool enough to love it when he say \\n \" I want you \" \\n\\n I want you \\n the truth can not hurt you it be just like the dark \\n it scare you witless \\n but in time you see thing clear and stark \\n I want you \\n go on and hurt I then we will let it drop \\n I want you \\n I be afraid I will not know where to stop \\n I want you \\n I be not ashamed to say I cry for you \\n I want you \\n I want to know the thing you do that we do too \\n I want you \\n I want to hear he please you more than I do \\n I want you \\n I might as well be useless for all it mean to you \\n I want you \\n do you call his name out as he hold you down \\n I want you \\n oh no my darling not with that clown \\n I want you \\n\\n I want you \\n you have have your fun you do not get well no more \\n I want you \\n none who want you could want you more \\n I want you \\n I want you \\n\\n I want you \\n every night when I go off to bed and when I wake up \\n I want you \\n\\n I be go to say it once again until I instill it \\n I know I be go to feel this way until you kill it \\n I want you \\n I want you \\n I want you')"
      ]
     },
     "execution_count": 4,
     "metadata": {},
     "output_type": "execute_result"
    }
   ],
   "source": [
    "lyr_emo_se.emo_se_corpus(titles_env, artists_env, os.getenv(\"lyr_col\"), spacy.load(\"en_core_web_sm\"))\n",
    "lyr_emo_se.emo_se_analysis_corpus[:5]"
   ]
  },
  {
   "cell_type": "code",
   "execution_count": 5,
   "metadata": {},
   "outputs": [],
   "source": [
    "lyr_emo_se_list = []\n",
    "for name, artists, corpus in zip(lyr_emo_se.titles, lyr_emo_se.artists, lyr_emo_se.emo_se_analysis_corpus):\n",
    "    lyr_emo_se_dict = {titles_env: name, artists_env: artists}\n",
    "    lyr_emo_se_list.append({**lyr_emo_se_dict, **{\"lyr_emo_se_\" + key: value for key, value in NRCLex(corpus).affect_frequencies.items()}})"
   ]
  },
  {
   "cell_type": "code",
   "execution_count": 6,
   "metadata": {},
   "outputs": [],
   "source": [
    "df_lyr_emo_se = pd.DataFrame(lyr_emo_se_list)\n",
    "df_lyr_emo_se.fillna(value = 0,\n",
    "                     inplace = True)\n",
    "df_lyr_emo_se.drop(columns = [\"lyr_emo_se_anticip\"],\n",
    "                   inplace = True)"
   ]
  },
  {
   "cell_type": "code",
   "execution_count": 7,
   "metadata": {},
   "outputs": [],
   "source": [
    "df_lyr_emo_se.to_csv(f\"{get_path('')}/lyr_emo_se.csv\",\n",
    "                     index = False)"
   ]
  }
 ],
 "metadata": {
  "kernelspec": {
   "display_name": "Python 3",
   "language": "python",
   "name": "python3"
  },
  "language_info": {
   "codemirror_mode": {
    "name": "ipython",
    "version": 3
   },
   "file_extension": ".py",
   "mimetype": "text/x-python",
   "name": "python",
   "nbconvert_exporter": "python",
   "pygments_lexer": "ipython3",
   "version": "3.10.11"
  }
 },
 "nbformat": 4,
 "nbformat_minor": 2
}
