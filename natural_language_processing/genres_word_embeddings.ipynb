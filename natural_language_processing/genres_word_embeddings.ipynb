{
 "cells": [
  {
   "cell_type": "code",
   "execution_count": 1,
   "metadata": {},
   "outputs": [],
   "source": [
    "import ast\n",
    "import gensim.downloader\n",
    "import os\n",
    "import pandas as pd\n",
    "\n",
    "from dotenv import load_dotenv\n",
    "from preprocessing import get_path"
   ]
  },
  {
   "cell_type": "code",
   "execution_count": 2,
   "metadata": {},
   "outputs": [],
   "source": [
    "load_dotenv(\"variable.env\")\n",
    "artists_env = os.getenv(\"art_col\")\n",
    "genres_env = os.getenv(\"gen_col\")\n",
    "titles_env = os.getenv(\"tit_col\")\n",
    "\n",
    "df = pd.read_csv(filepath_or_buffer = get_path(f\"{os.getenv('dataset')}.csv\"))\n",
    "df[genres_env] = df[genres_env].apply(ast.literal_eval)"
   ]
  },
  {
   "cell_type": "code",
   "execution_count": 3,
   "metadata": {},
   "outputs": [],
   "source": [
    "genre_model = gensim.downloader.load(\"fasttext-wiki-news-subwords-300\")"
   ]
  },
  {
   "cell_type": "code",
   "execution_count": 4,
   "metadata": {},
   "outputs": [],
   "source": [
    "gwe = [\n",
    "    {titles_env: row[titles_env], artists_env: row[artists_env], **{f\"genre_we_{i}\": we for i, we in enumerate(genre_model.get_mean_vector(row[genres_env]), start = 1)}}\n",
    "    for _, row in df.iterrows()\n",
    "    ]"
   ]
  },
  {
   "cell_type": "code",
   "execution_count": 5,
   "metadata": {},
   "outputs": [],
   "source": [
    "df_genre_we = pd.DataFrame(gwe)\n",
    "df_genre_we.to_csv(f\"{get_path('')}/genre_we.csv\",\n",
    "                   index = False)"
   ]
  }
 ],
 "metadata": {
  "kernelspec": {
   "display_name": "Python 3",
   "language": "python",
   "name": "python3"
  },
  "language_info": {
   "codemirror_mode": {
    "name": "ipython",
    "version": 3
   },
   "file_extension": ".py",
   "mimetype": "text/x-python",
   "name": "python",
   "nbconvert_exporter": "python",
   "pygments_lexer": "ipython3",
   "version": "3.10.11"
  }
 },
 "nbformat": 4,
 "nbformat_minor": 2
}
